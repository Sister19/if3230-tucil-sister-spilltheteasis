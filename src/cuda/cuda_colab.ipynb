{
  "cells": [
    {
      "cell_type": "markdown",
      "metadata": {
        "id": "HfgyZ4cbDAqm"
      },
      "source": [
        "# Setup"
      ]
    },
    {
      "cell_type": "code",
      "execution_count": null,
      "metadata": {
        "id": "Dh6ms4rVgPLk"
      },
      "outputs": [],
      "source": [
        "# https://github.com/flin3500/Cuda-Google-Colab"
      ]
    },
    {
      "cell_type": "code",
      "execution_count": null,
      "metadata": {
        "colab": {
          "base_uri": "https://localhost:8080/"
        },
        "id": "hdyx41ZrIoS6",
        "outputId": "92784624-6cb2-4023-ff67-279737f83443"
      },
      "outputs": [
        {
          "name": "stdout",
          "output_type": "stream",
          "text": [
            "nvcc: NVIDIA (R) Cuda compiler driver\n",
            "Copyright (c) 2005-2022 NVIDIA Corporation\n",
            "Built on Wed_Sep_21_10:33:58_PDT_2022\n",
            "Cuda compilation tools, release 11.8, V11.8.89\n",
            "Build cuda_11.8.r11.8/compiler.31833905_0\n"
          ]
        }
      ],
      "source": [
        "!nvcc --version"
      ]
    },
    {
      "cell_type": "code",
      "execution_count": null,
      "metadata": {
        "colab": {
          "base_uri": "https://localhost:8080/"
        },
        "id": "ymL84uWnI45T",
        "outputId": "12279fdc-920e-49ee-920e-42922a43252a"
      },
      "outputs": [
        {
          "name": "stdout",
          "output_type": "stream",
          "text": [
            "/usr/local/cuda/bin/nvcc\n"
          ]
        }
      ],
      "source": [
        "!which nvcc"
      ]
    },
    {
      "cell_type": "code",
      "execution_count": null,
      "metadata": {
        "colab": {
          "base_uri": "https://localhost:8080/"
        },
        "id": "J78BhzcQJTMb",
        "outputId": "ba07edcb-f17f-4508-e959-17b506d6159d"
      },
      "outputs": [
        {
          "name": "stdout",
          "output_type": "stream",
          "text": [
            "NVIDIA-SMI has failed because it couldn't communicate with the NVIDIA driver. Make sure that the latest NVIDIA driver is installed and running.\n",
            "\n"
          ]
        }
      ],
      "source": [
        "!nvidia-smi"
      ]
    },
    {
      "cell_type": "markdown",
      "metadata": {
        "id": "NO3gvPs0DNEc"
      },
      "source": [
        "# CUDA DFT"
      ]
    },
    {
      "cell_type": "markdown",
      "metadata": {
        "id": "ICRUrsXuDS0o"
      },
      "source": [
        "## Write File cuda-dft.cu"
      ]
    },
    {
      "cell_type": "code",
      "execution_count": 2,
      "metadata": {
        "colab": {
          "base_uri": "https://localhost:8080/"
        },
        "id": "38b5jc7bgx-5",
        "outputId": "84c956b5-1022-43dd-d9e1-b09f259dd4c6"
      },
      "outputs": [
        {
          "name": "stdout",
          "output_type": "stream",
          "text": [
            "Writing cuda-dft.cu\n"
          ]
        }
      ],
      "source": [
        "%%writefile cuda-dft.cu\n",
        "\n",
        "// TUBES SISTER 13520002 CUDA\n",
        "// cuda-dft.cu\n",
        " \n",
        "// how to run\n",
        "// > nvcc cuda-dft.cu -o cuda-dft\n",
        "// > ./cuda-dft\n",
        " \n",
        "// how to measure time\n",
        "// ex testcase.txt already created, create empty output.txt\n",
        "// > time ./cuda-dft < 128.txt > output.txt\n",
        "\n",
        "#include <cuComplex.h>\n",
        "#include <stdio.h>\n",
        "#include <stdlib.h>\n",
        "#include <math.h>\n",
        "\n",
        "#define MAX_N 512\n",
        "#define BLOCK_SIZE 16\n",
        "#define CU_MPI make_cuDoubleComplex(M_PI, 0.0)\n",
        "\n",
        "struct Matrix {\n",
        "    int    size;\n",
        "    double mat[MAX_N*MAX_N];\n",
        "};\n",
        "\n",
        "struct FreqMatrix {\n",
        "    int    size;\n",
        "    cuDoubleComplex mat[MAX_N*MAX_N];\n",
        "};\n",
        "\n",
        "void readMatrix(struct Matrix *m) {\n",
        "    scanf(\"%d\", &(m->size));\n",
        "    for (int i = 0; i < m->size; i++)\n",
        "        for (int j = 0; j < m->size; j++)\n",
        "            scanf(\"%lf\", &(m->mat[i*m->size+j]));\n",
        "}\n",
        "\n",
        "__host__ __device__ cuDoubleComplex _cuCexp (cuDoubleComplex arg)\n",
        "{\n",
        "   cuDoubleComplex res;\n",
        "   double s, c;\n",
        "   double e = exp(arg.x);\n",
        "   sincos(arg.y, &s, &c);\n",
        "   res.x = c * e;\n",
        "   res.y = s * e;\n",
        "   return res;\n",
        "}\n",
        "\n",
        "__global__ void dft(double *d_mat, cuDoubleComplex *d_freq, int size) {\n",
        "    // get index of thread\n",
        "    int k = blockIdx.x * blockDim.x + threadIdx.x;\n",
        "    int l = blockIdx.y * blockDim.y + threadIdx.y;\n",
        "\n",
        "    if (k < size && l < size) {\n",
        "        // make size to cuDoubleComplex\n",
        "        cuDoubleComplex sizeSquare      = make_cuDoubleComplex(size*size, 0.0);\n",
        "        // initialize element in cuDoubleComplex format = 0 + 0i\n",
        "        cuDoubleComplex element         = make_cuDoubleComplex(0.0, 0.0);  \n",
        "        // make -2i to cuDoubleComplex\n",
        "        cuDoubleComplex var_exp         = make_cuDoubleComplex(0.0, -2.0);\n",
        "\n",
        "        for (int m = 0; m < size; m++) {\n",
        "            for (int n = 0; n < size; n++) {\n",
        "                // calculate e^((-2*pi*i) * (k*m/M + l*n/N))\n",
        "                cuDoubleComplex arg             = make_cuDoubleComplex(((k*m / (double) size) + (l*n / (double) size)), 0.0);\n",
        "                cuDoubleComplex exponent        = _cuCexp(cuCmul(cuCmul(var_exp, CU_MPI), arg));\n",
        "                // make element in matrix to cuDoubleComplex\n",
        "                cuDoubleComplex el              = make_cuDoubleComplex(d_mat[m*size+n],0.0);\n",
        "                // add result to element\n",
        "                element                         = cuCadd(element, cuCmul(el, exponent));\n",
        "            }\n",
        "        } \n",
        "        // set element to d_freq\n",
        "        d_freq[k*size+l] = cuCdiv(element, sizeSquare);   \n",
        "    }\n",
        "}\n",
        "\n",
        "\n",
        "int main(void) {\n",
        "    struct Matrix     source;\n",
        "    struct FreqMatrix freq_domain;\n",
        "    double *d_mat;\n",
        "    cuDoubleComplex *d_freq;\n",
        "\n",
        "    readMatrix(&source);\n",
        "    freq_domain.size = source.size;\n",
        "\n",
        "    // allocate memory in device\n",
        "    cudaMalloc((void **) &d_mat, source.size * source.size * sizeof(double));\n",
        "    cudaMalloc((void **) &d_freq, source.size * source.size * sizeof(cuDoubleComplex));\n",
        "\n",
        "    // copy data from host to device\n",
        "    cudaMemcpy(d_mat, source.mat, source.size * source.size * sizeof(double), cudaMemcpyHostToDevice);\n",
        "\n",
        "    // set block size (16 blocks) and grid size (matrix size/block size)\n",
        "    dim3 block(source.size/BLOCK_SIZE, source.size/BLOCK_SIZE, 1);    \n",
        "    dim3 grid(BLOCK_SIZE, BLOCK_SIZE, 1);\n",
        "    // call kernel\n",
        "    dft<<<block, grid>>>(d_mat, d_freq, source.size);\n",
        "\n",
        "    // copy data from device to host\n",
        "    cudaMemcpy(freq_domain.mat, d_freq, source.size * source.size * sizeof(cuDoubleComplex), cudaMemcpyDeviceToHost);\n",
        "    // free memory in device\n",
        "    cudaFree(d_mat);\n",
        "    cudaFree(d_freq);\n",
        "\n",
        "    cudaDeviceSynchronize();\n",
        "    \n",
        "    cuDoubleComplex sum = make_cuDoubleComplex(0.0, 0.0);\n",
        "    cuDoubleComplex size = make_cuDoubleComplex(source.size, 0.0);\n",
        "    for (int k = 0; k < source.size; k++) {\n",
        "        for (int l = 0; l < source.size; l++) {\n",
        "            cuDoubleComplex el = freq_domain.mat[k*freq_domain.size+l];\n",
        "            printf(\"(%lf, %lf) \", cuCreal(el), cuCimag(el));\n",
        "            sum = cuCadd(sum, el);\n",
        "        }\n",
        "        printf(\"\\n\");\n",
        "    }\n",
        "    \n",
        "    sum = cuCdiv(sum, size);\n",
        "    printf(\"Average : (%lf, %lf)\\n\", cuCreal(sum), cuCimag(sum));\n",
        "\n",
        "    return 0;\n",
        "}"
      ]
    },
    {
      "cell_type": "code",
      "execution_count": 4,
      "metadata": {
        "id": "zi-V8HaUTIDH"
      },
      "outputs": [],
      "source": [
        "# Compile\n",
        "!nvcc cuda-dft.cu -o cuda-dft"
      ]
    },
    {
      "cell_type": "markdown",
      "metadata": {
        "id": "_xh-C0dTDio5"
      },
      "source": [
        "## Test"
      ]
    },
    {
      "cell_type": "code",
      "execution_count": 6,
      "metadata": {
        "colab": {
          "base_uri": "https://localhost:8080/"
        },
        "id": "iPy1txsXAgTV",
        "outputId": "63396ec8-5ac4-4173-b472-6559b58961e8"
      },
      "outputs": [
        {
          "name": "stdout",
          "output_type": "stream",
          "text": [
            "\n",
            "real\t0m0.846s\n",
            "user\t0m0.033s\n",
            "sys\t0m0.743s\n"
          ]
        }
      ],
      "source": [
        "!time ./cuda-dft < 32.txt > output.txt"
      ]
    },
    {
      "cell_type": "code",
      "execution_count": 7,
      "metadata": {
        "colab": {
          "base_uri": "https://localhost:8080/"
        },
        "id": "poAdg4iFAmKF",
        "outputId": "45db7ac7-144c-4162-cdb7-a986affdfdbd"
      },
      "outputs": [
        {
          "name": "stdout",
          "output_type": "stream",
          "text": [
            "\n",
            "real\t0m0.909s\n",
            "user\t0m0.086s\n",
            "sys\t0m0.753s\n"
          ]
        }
      ],
      "source": [
        "!time ./cuda-dft < 64.txt > output.txt"
      ]
    },
    {
      "cell_type": "code",
      "execution_count": 8,
      "metadata": {
        "colab": {
          "base_uri": "https://localhost:8080/"
        },
        "id": "Xx1zmpvLAqMe",
        "outputId": "adbbba36-cf1f-4140-a5de-2616ea32a23d"
      },
      "outputs": [
        {
          "name": "stdout",
          "output_type": "stream",
          "text": [
            "\n",
            "real\t0m1.191s\n",
            "user\t0m0.375s\n",
            "sys\t0m0.749s\n"
          ]
        }
      ],
      "source": [
        "!time ./cuda-dft < 128.txt > output.txt"
      ]
    },
    {
      "cell_type": "code",
      "execution_count": 9,
      "metadata": {
        "colab": {
          "base_uri": "https://localhost:8080/"
        },
        "id": "POEdFtJgAukf",
        "outputId": "0889015e-5bc2-4a89-f0e5-c07fa2c5dd74"
      },
      "outputs": [
        {
          "name": "stdout",
          "output_type": "stream",
          "text": [
            "\n",
            "real\t0m3.497s\n",
            "user\t0m2.700s\n",
            "sys\t0m0.722s\n"
          ]
        }
      ],
      "source": [
        "!time ./cuda-dft < 256.txt > output.txt"
      ]
    },
    {
      "cell_type": "code",
      "execution_count": 10,
      "metadata": {
        "colab": {
          "base_uri": "https://localhost:8080/"
        },
        "id": "9Mkk3hGlAzuL",
        "outputId": "4eb19afd-0466-4ac4-88d9-0fb0dbfc03fa"
      },
      "outputs": [
        {
          "name": "stdout",
          "output_type": "stream",
          "text": [
            "\n",
            "real\t0m37.799s\n",
            "user\t0m36.788s\n",
            "sys\t0m0.768s\n"
          ]
        }
      ],
      "source": [
        "!time ./cuda-dft < 512.txt > output.txt"
      ]
    },
    {
      "cell_type": "markdown",
      "metadata": {
        "id": "hEL8wkp1DnUM"
      },
      "source": [
        "# CUDA FFT"
      ]
    },
    {
      "cell_type": "markdown",
      "metadata": {
        "id": "7eksTh2_Dp8k"
      },
      "source": [
        "## Write File cuda-fft.cu"
      ]
    },
    {
      "cell_type": "code",
      "execution_count": 11,
      "metadata": {
        "colab": {
          "base_uri": "https://localhost:8080/"
        },
        "id": "pc0Y7ex2B7D7",
        "outputId": "b10f72c8-4c76-45b9-9363-b820353bdbcc"
      },
      "outputs": [
        {
          "name": "stdout",
          "output_type": "stream",
          "text": [
            "Writing cuda-fft.cu\n"
          ]
        }
      ],
      "source": [
        "%%writefile cuda-fft.cu\n",
        "\n",
        "// TUBES SISTER 13520002 CUDA\n",
        "// cuda-fft.cu\n",
        " \n",
        "// how to run\n",
        "// > nvcc cuda-fft.cu -o cuda-fft\n",
        "// > ./cuda-fft\n",
        " \n",
        "// how to measure time\n",
        "// ex testcase.txt already created, create empty output.txt\n",
        "// > time ./cuda-fft < 128.txt > output.txt\n",
        "\n",
        "#include <cuComplex.h>\n",
        "#include <stdio.h>\n",
        "#include <stdlib.h>\n",
        "#include <math.h>\n",
        "\n",
        "#define MAX_N 512\n",
        "#define BLOCK_SIZE 16\n",
        "#define CU_MPI make_cuDoubleComplex(M_PI, 0.0)\n",
        "\n",
        "struct Matrix {\n",
        "    int    size;\n",
        "    double mat[MAX_N*MAX_N];\n",
        "};\n",
        "\n",
        "struct FreqMatrix {\n",
        "    int    size;\n",
        "    cuDoubleComplex mat[MAX_N*MAX_N];\n",
        "};\n",
        "\n",
        "void readMatrix(struct Matrix *m) {\n",
        "    scanf(\"%d\", &(m->size));\n",
        "    for (int i = 0; i < m->size; i++)\n",
        "        for (int j = 0; j < m->size; j++)\n",
        "            scanf(\"%lf\", &(m->mat[i*m->size+j]));\n",
        "}\n",
        "\n",
        "__host__ __device__ cuDoubleComplex _cuCexp (cuDoubleComplex arg)\n",
        "{\n",
        "   cuDoubleComplex res;\n",
        "   double s, c;\n",
        "   double e = exp(arg.x);\n",
        "   sincos(arg.y, &s, &c);\n",
        "   res.x = c * e;\n",
        "   res.y = s * e;\n",
        "   return res;\n",
        "}\n",
        "\n",
        "__global__ void fft(double *d_mat, cuDoubleComplex *d_freq, int size) {\n",
        "    // get index of thread\n",
        "    int k = blockIdx.x * blockDim.x + threadIdx.x;\n",
        "    int l = blockIdx.y * blockDim.y + threadIdx.y;\n",
        "\n",
        "    if (k < size && l < size) {\n",
        "        // Rumus 2D FFT\n",
        "        // F[k,l] = 1/MN * { \n",
        "        // sum(sum(f[m,n] * e^((-2*pi*i) * (k*m/M + l*n/N))) +                              for calculate even row and even column\n",
        "        // sum(sum(f[m,n] * e^((-2*pi*i) * (k*m/M + l*n/N)) * e^((-2*pi*i) * (l/N))) +      for calculate even row and odd column\n",
        "        // sum(sum(f[m,n] * e^((-2*pi*i) * (k*m/M + l*n/N)) * e^((-2*pi*i) * (k/M))) +      for calculate odd row and even column\n",
        "        // sum(sum(f[m,n] * e^((-2*pi*i) * (k*m/M + l*n/N)) * e^((-2*pi*i) * ((l+k)/M)))    for calculate odd row and odd column\n",
        "        // }\n",
        "\n",
        "        // make size to cuDoubleComplex\n",
        "        cuDoubleComplex sizeSquare      = make_cuDoubleComplex(size*size, 0.0);\n",
        "        // initialize element in cuDoubleComplex format = 0 + 0i\n",
        "        cuDoubleComplex element         = make_cuDoubleComplex(0.0, 0.0);  \n",
        "        // make -2 to cuDoubleComplex\n",
        "        cuDoubleComplex var_exp         = make_cuDoubleComplex(0.0, -2.0);\n",
        "\n",
        "        // arg for even row and even column\n",
        "        // 0\n",
        "        // arg for even row and odd column\n",
        "        cuDoubleComplex arg_even_odd    = make_cuDoubleComplex(l / (double) size, 0.0);\n",
        "        // arg for odd row and even column\n",
        "        cuDoubleComplex arg_odd_even    = make_cuDoubleComplex(k / (double) size, 0.0);\n",
        "        // arg for odd row and odd column\n",
        "        cuDoubleComplex arg_odd_odd     = make_cuDoubleComplex((k + l) / (double) size, 0.0);\n",
        "\n",
        "        // var for even row and even column\n",
        "        // 1\n",
        "        // var for even row and odd column\n",
        "        cuDoubleComplex var_even_odd    = _cuCexp(cuCmul(cuCmul(var_exp, CU_MPI), arg_even_odd));\n",
        "        // var for odd row and even column\n",
        "        cuDoubleComplex var_odd_even    = _cuCexp(cuCmul(cuCmul(var_exp, CU_MPI), arg_odd_even));\n",
        "        // var for odd row and odd column\n",
        "        cuDoubleComplex var_odd_odd     = _cuCexp(cuCmul(cuCmul(var_exp, CU_MPI), arg_odd_odd));\n",
        "\n",
        "        for (int m = 0; m < size/2; m++) {\n",
        "            for (int n = 0; n < size/2; n++) {\n",
        "                // calculate e^((-2*pi*i) * (k*m/M + l*n/N))\n",
        "                cuDoubleComplex arg             = make_cuDoubleComplex(((k*m / (double) size) + (l*n / (double) size)), 0.0);\n",
        "                cuDoubleComplex exponent        = _cuCexp(cuCmul(cuCmul(var_exp, CU_MPI), arg));\n",
        "                // make element in matrix to cuDoubleComplex\n",
        "                cuDoubleComplex el_even_even    = make_cuDoubleComplex(d_mat[(2*m)*size+(2*n)],0.0);\n",
        "                cuDoubleComplex el_even_odd     = make_cuDoubleComplex(d_mat[(2*m)*size+(2*n+1)],0.0);\n",
        "                cuDoubleComplex el_odd_even     = make_cuDoubleComplex(d_mat[(2*m+1)*size+(2*n)],0.0);\n",
        "                cuDoubleComplex el_odd_odd      = make_cuDoubleComplex(d_mat[(2*m+1)*size+(2*n+1)],0.0);\n",
        "                // add each result to element\n",
        "                element                         = cuCadd(element, cuCmul(el_even_even, exponent));                          // even row and even column\n",
        "                element                         = cuCadd(element, cuCmul(el_even_odd, cuCmul(var_even_odd, exponent)));     // even row and odd column\n",
        "                element                         = cuCadd(element, cuCmul(el_odd_even, cuCmul(var_odd_even, exponent)));     // odd row and even column\n",
        "                element                         = cuCadd(element, cuCmul(el_odd_odd, cuCmul(var_odd_odd, exponent)));       // odd row and odd column\n",
        "            }\n",
        "        } \n",
        "        // set element to d_freq\n",
        "        d_freq[k*size+l] = cuCdiv(element, sizeSquare);   \n",
        "    }\n",
        "}\n",
        "\n",
        "\n",
        "int main(void) {\n",
        "    struct Matrix     source;\n",
        "    struct FreqMatrix freq_domain;\n",
        "    double *d_mat;\n",
        "    cuDoubleComplex *d_freq;\n",
        "\n",
        "    readMatrix(&source);\n",
        "    freq_domain.size = source.size;\n",
        "\n",
        "    // allocate memory in device\n",
        "    cudaMalloc((void **) &d_mat, source.size * source.size * sizeof(double));\n",
        "    cudaMalloc((void **) &d_freq, source.size * source.size * sizeof(cuDoubleComplex));\n",
        "\n",
        "    // copy data from host to device\n",
        "    cudaMemcpy(d_mat, source.mat, source.size * source.size * sizeof(double), cudaMemcpyHostToDevice);\n",
        "\n",
        "    // set block size (16 blocks) and grid size (matrix size/block size)\n",
        "    dim3 block(source.size/BLOCK_SIZE, source.size/BLOCK_SIZE, 1);    \n",
        "    dim3 grid(BLOCK_SIZE, BLOCK_SIZE, 1);\n",
        "    // call kernel\n",
        "    fft<<<block, grid>>>(d_mat, d_freq, source.size);\n",
        "\n",
        "    // copy data from device to host\n",
        "    cudaMemcpy(freq_domain.mat, d_freq, source.size * source.size * sizeof(cuDoubleComplex), cudaMemcpyDeviceToHost);\n",
        "    // free memory in device\n",
        "    cudaFree(d_mat);\n",
        "    cudaFree(d_freq);\n",
        "\n",
        "    cudaDeviceSynchronize();\n",
        "    \n",
        "    cuDoubleComplex sum = make_cuDoubleComplex(0.0, 0.0);\n",
        "    cuDoubleComplex size = make_cuDoubleComplex(source.size, 0.0);\n",
        "    for (int k = 0; k < source.size; k++) {\n",
        "        for (int l = 0; l < source.size; l++) {\n",
        "            cuDoubleComplex el = freq_domain.mat[k*freq_domain.size+l];\n",
        "            printf(\"(%lf, %lf) \", cuCreal(el), cuCimag(el));\n",
        "            sum = cuCadd(sum, el);\n",
        "        }\n",
        "        printf(\"\\n\");\n",
        "    }\n",
        "    \n",
        "    sum = cuCdiv(sum, size);\n",
        "    printf(\"Average : (%lf, %lf)\\n\", cuCreal(sum), cuCimag(sum));\n",
        "\n",
        "    return 0;\n",
        "}"
      ]
    },
    {
      "cell_type": "code",
      "execution_count": 13,
      "metadata": {
        "id": "5-jePmIJC7wg"
      },
      "outputs": [],
      "source": [
        "# Compile\n",
        "!nvcc cuda-fft.cu -o cuda-fft"
      ]
    },
    {
      "cell_type": "markdown",
      "metadata": {
        "id": "kQ1oMl66Dw8l"
      },
      "source": [
        "## Test"
      ]
    },
    {
      "cell_type": "code",
      "execution_count": 14,
      "metadata": {
        "colab": {
          "base_uri": "https://localhost:8080/"
        },
        "id": "RC7kOz56CuF2",
        "outputId": "fe486523-f79f-4efe-df64-3dc92a6a4ef8"
      },
      "outputs": [
        {
          "name": "stdout",
          "output_type": "stream",
          "text": [
            "\n",
            "real\t0m1.051s\n",
            "user\t0m0.152s\n",
            "sys\t0m0.806s\n"
          ]
        }
      ],
      "source": [
        "!time ./cuda-fft < 32.txt > output.txt"
      ]
    },
    {
      "cell_type": "code",
      "execution_count": 15,
      "metadata": {
        "colab": {
          "base_uri": "https://localhost:8080/"
        },
        "id": "deFzXjm0D2t_",
        "outputId": "2d4b5c9d-bacb-4b76-a804-41cefe84254e"
      },
      "outputs": [
        {
          "name": "stdout",
          "output_type": "stream",
          "text": [
            "\n",
            "real\t0m0.848s\n",
            "user\t0m0.047s\n",
            "sys\t0m0.732s\n"
          ]
        }
      ],
      "source": [
        "!time ./cuda-fft < 64.txt > output.txt"
      ]
    },
    {
      "cell_type": "code",
      "execution_count": 16,
      "metadata": {
        "colab": {
          "base_uri": "https://localhost:8080/"
        },
        "id": "E-6ZJtmSD59b",
        "outputId": "a78e404b-87ce-4827-dbd4-46a9abcb23dd"
      },
      "outputs": [
        {
          "name": "stdout",
          "output_type": "stream",
          "text": [
            "\n",
            "real\t0m1.009s\n",
            "user\t0m0.195s\n",
            "sys\t0m0.745s\n"
          ]
        }
      ],
      "source": [
        "!time ./cuda-fft < 128.txt > output.txt"
      ]
    },
    {
      "cell_type": "code",
      "execution_count": 17,
      "metadata": {
        "colab": {
          "base_uri": "https://localhost:8080/"
        },
        "id": "QRxUxuisD9FT",
        "outputId": "e95b240d-3bad-4385-d848-336580853af0"
      },
      "outputs": [
        {
          "name": "stdout",
          "output_type": "stream",
          "text": [
            "\n",
            "real\t0m1.963s\n",
            "user\t0m1.176s\n",
            "sys\t0m0.716s\n"
          ]
        }
      ],
      "source": [
        "!time ./cuda-fft < 256.txt > output.txt"
      ]
    },
    {
      "cell_type": "code",
      "execution_count": 18,
      "metadata": {
        "colab": {
          "base_uri": "https://localhost:8080/"
        },
        "id": "1m5Ly1eoEFsK",
        "outputId": "dfd4273d-3ca1-4f60-8336-9ae4580166bd"
      },
      "outputs": [
        {
          "name": "stdout",
          "output_type": "stream",
          "text": [
            "\n",
            "real\t0m14.960s\n",
            "user\t0m14.114s\n",
            "sys\t0m0.714s\n"
          ]
        }
      ],
      "source": [
        "!time ./cuda-fft < 512.txt > output.txt"
      ]
    }
  ],
  "metadata": {
    "accelerator": "GPU",
    "colab": {
      "provenance": [],
      "toc_visible": true
    },
    "gpuClass": "standard",
    "kernelspec": {
      "display_name": "Python 3.9.12 64-bit",
      "language": "python",
      "name": "python3"
    },
    "language_info": {
      "name": "python",
      "version": "3.9.12"
    },
    "vscode": {
      "interpreter": {
        "hash": "e31aef8222fb7c235d2ed8e74ce17e973738f89b37261e7466b7a63a6dfb1214"
      }
    }
  },
  "nbformat": 4,
  "nbformat_minor": 0
}
